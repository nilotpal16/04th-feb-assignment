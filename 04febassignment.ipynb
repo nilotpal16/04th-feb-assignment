{
 "cells": [
  {
   "cell_type": "code",
   "execution_count": 10,
   "id": "f0a21798-0e4f-4be5-a067-cbe51c6f173e",
   "metadata": {},
   "outputs": [
    {
     "name": "stdout",
     "output_type": "stream",
     "text": [
      "[('Sachin Tendulkar', 34357), ('Ricky Ponting', 27483), ('Jack Kallis', 25534), ('Virat Kohli', 24936)]\n"
     ]
    }
   ],
   "source": [
    "l=[('Sachin Tendulkar', 34357), ('Ricky Ponting', 27483), ('Jack Kallis', 25534), ('Virat Kohli', 24936)]\n",
    "l2= sorted(l, key = lambda x: x[1], reverse=True)\n",
    "print(l2)"
   ]
  },
  {
   "cell_type": "code",
   "execution_count": 12,
   "id": "3011ed9e-9ce4-46c2-bde5-fad88fa7ac4b",
   "metadata": {},
   "outputs": [
    {
     "name": "stdout",
     "output_type": "stream",
     "text": [
      "[1, 4, 9, 16, 25, 36, 49, 64, 81, 100]\n"
     ]
    }
   ],
   "source": [
    "l=[1, 2, 3, 4, 5, 6, 7, 8, 9, 10]\n",
    "no=list(map(lambda x:x**2,l))\n",
    "print(no)"
   ]
  },
  {
   "cell_type": "code",
   "execution_count": 17,
   "id": "9b14ad80-2bd3-4f8e-bfbd-4532f119ae9e",
   "metadata": {},
   "outputs": [
    {
     "name": "stdout",
     "output_type": "stream",
     "text": [
      "('1', '2', '3', '4', '5', '6', '7', '8', '9', '10')\n"
     ]
    }
   ],
   "source": [
    "l=[1, 2, 3, 4, 5, 6, 7, 8, 9, 10]\n",
    "no=tuple(map(lambda x:str(x),l))\n",
    "print(no)"
   ]
  },
  {
   "cell_type": "code",
   "execution_count": 22,
   "id": "45c527e0-b4c6-4a5a-9a22-9500d2181ff8",
   "metadata": {},
   "outputs": [
    {
     "name": "stdout",
     "output_type": "stream",
     "text": [
      "15511210043330985984000000\n"
     ]
    }
   ],
   "source": [
    "from functools import reduce\n",
    "no=[i for i in range(1,26)]\n",
    "no2= reduce(lambda x,y:x*y,no)\n",
    "print(no2)"
   ]
  },
  {
   "cell_type": "code",
   "execution_count": 25,
   "id": "0421bcb8-8e6d-45a6-9035-bf23a508efe5",
   "metadata": {},
   "outputs": [
    {
     "name": "stdout",
     "output_type": "stream",
     "text": [
      "[2, 3, 6, 9, 27, 60, 90, 120, 46]\n"
     ]
    }
   ],
   "source": [
    "no=[2, 3, 6, 9, 27, 60, 90, 120, 55, 46]\n",
    "no2=list(filter(lambda x: x%2==0 or x%3==0,no))\n",
    "print(no2)"
   ]
  },
  {
   "cell_type": "code",
   "execution_count": 26,
   "id": "02557952-3322-4225-829a-9260801126b8",
   "metadata": {},
   "outputs": [
    {
     "name": "stdout",
     "output_type": "stream",
     "text": [
      "['php', 'aba', 'radar', 'level']\n"
     ]
    }
   ],
   "source": [
    "strings = ['python', 'php', 'aba', 'radar', 'level']\n",
    "\n",
    "palindromes = list(filter(lambda x: x == x[::-1], strings))\n",
    "\n",
    "print(palindromes)"
   ]
  },
  {
   "cell_type": "code",
   "execution_count": null,
   "id": "be291a26-72e9-472e-8954-95654f371d35",
   "metadata": {},
   "outputs": [],
   "source": []
  }
 ],
 "metadata": {
  "kernelspec": {
   "display_name": "Python 3 (ipykernel)",
   "language": "python",
   "name": "python3"
  },
  "language_info": {
   "codemirror_mode": {
    "name": "ipython",
    "version": 3
   },
   "file_extension": ".py",
   "mimetype": "text/x-python",
   "name": "python",
   "nbconvert_exporter": "python",
   "pygments_lexer": "ipython3",
   "version": "3.10.8"
  }
 },
 "nbformat": 4,
 "nbformat_minor": 5
}
